{
 "cells": [
  {
   "cell_type": "markdown",
   "metadata": {},
   "source": [
    "# Copyright Netherlands eScience Center <br>\n",
    "** Function     : Analyze AMET from coordinated experiments** <br>\n",
    "** Author       : Yang Liu ** <br>\n",
    "** First Built  : 2019.08.09 ** <br>\n",
    "** Last Update  : 2019.08.09 ** <br>\n",
    "Description     : This notebook aims to analyze AMET taken as the residuals of TOA/surface flux fields from multiple coordinated experiments in Blue Action WP3. It contributes to the Deliverable 3.1. <br>\n",
    "Return Values   : netCDF4 <br>\n",
    "Caveat          : The fields used here are post-processed monthly mean fields. It includes AMET from:\n",
    "* EC Earth (DMI)\n",
    "* CMCC-CM (CMCC)\n",
    "* WACCM6 (WHOI)\n",
    "* NorESM (NERSC)\n",
    "* HadGEM  (UoS)\n",
    "* EC Earth (NLeSC)"
   ]
  },
  {
   "cell_type": "code",
   "execution_count": 8,
   "metadata": {},
   "outputs": [],
   "source": [
    "%matplotlib inline\n",
    "import numpy as np\n",
    "import sys\n",
    "sys.path.append(\"/home/ESLT0068/NLeSC/Computation_Modeling/Bjerknes/Scripts/META\")\n",
    "import scipy as sp\n",
    "import time as tttt\n",
    "from netCDF4 import Dataset,num2date\n",
    "import os\n",
    "import meta.statistics\n",
    "import meta.visualizer\n",
    "import matplotlib.pyplot as plt"
   ]
  },
  {
   "cell_type": "code",
   "execution_count": 4,
   "metadata": {},
   "outputs": [],
   "source": [
    "# constants\n",
    "constant = {'g' : 9.80616,      # gravititional acceleration [m / s2]\n",
    "            'R' : 6371009,      # radius of the earth [m]\n",
    "            'cp': 1004.64,      # heat capacity of air [J/(Kg*K)]\n",
    "            'Lv': 2264670,      # Latent heat of vaporization [J/Kg]\n",
    "            'R_dry' : 286.9,    # gas constant of dry air [J/(kg*K)]\n",
    "            'R_vap' : 461.5,    # gas constant for water vapour [J/(kg*K)]\n",
    "            }"
   ]
  },
  {
   "cell_type": "markdown",
   "metadata": {},
   "source": [
    "|Model and Organization | Exp 1 | Exp 2 | Exp 3 | Exp 4 |    time   |\n",
    "|-----------------------|-------|-------|-------|-------|-----------|\n",
    "|     EC Earth (DMI)    |   20  |   20  |   20  |   20  | 1979-2013 (exp1&2) 1979-2015 (exp3&4) |\n",
    "|     CMCC-CM (CMCC)    |   10  |   10  |   0   |   0   | 1979-2014 |\n",
    "|      WACCM6 (WHOI)    |   30  |   30  |   0   |   0   | 1979-2014 |\n",
    "|     NorESM (NERSC)    |   20  |   20  |   20  |   20  | 1979-2014 |\n",
    "|     HadGEM  (UoS)     |   10  |   10  |   5   |   5   | 1979-2014 |"
   ]
  },
  {
   "cell_type": "code",
   "execution_count": 5,
   "metadata": {},
   "outputs": [],
   "source": [
    "################################   Input zone  ######################################\n",
    "# specify starting and ending time\n",
    "# specify data path\n",
    "datapath = '/home/ESLT0068/WorkFlow/Core_Database_BlueAction_WP3/AMET_netCDF'\n",
    "# specify output path for figures\n",
    "output_path = '/home/ESLT0068/NLeSC/Computation_Modeling/BlueAction/WP3/JointAnalysis_AMET'\n",
    "####################################################################################"
   ]
  },
  {
   "cell_type": "code",
   "execution_count": 12,
   "metadata": {},
   "outputs": [],
   "source": [
    "################################   Extract variables  ######################################\n",
    "# get path\n",
    "# EC Earth (DMI)\n",
    "datapath_DMI_exp1 = os.path.join(datapath, 'amet_ECEarth_DMI_exp1.nc')\n",
    "datapath_DMI_exp2 = os.path.join(datapath, 'amet_ECEarth_DMI_exp2.nc')\n",
    "datapath_DMI_exp3 = os.path.join(datapath, 'amet_ECEarth_DMI_exp3.nc')\n",
    "datapath_DMI_exp4 = os.path.join(datapath, 'amet_ECEarth_DMI_exp4.nc')\n",
    "# WACCM6 (WHOI)\n",
    "datapath_WHOI_exp1 = os.path.join(datapath, 'amet_WACCM6_WHOI_exp1.nc')\n",
    "datapath_WHOI_exp2 = os.path.join(datapath, 'amet_WACCM6_WHOI_exp2.nc')\n",
    "# get variable key\n",
    "# EC Earth (DMI)\n",
    "key_DMI_exp1 = Dataset(datapath_DMI_exp1)\n",
    "key_DMI_exp2 = Dataset(datapath_DMI_exp2)\n",
    "key_DMI_exp3 = Dataset(datapath_DMI_exp3)\n",
    "key_DMI_exp4 = Dataset(datapath_DMI_exp4)\n",
    "\n",
    "key_WHOI_exp1 = Dataset(datapath_WHOI_exp1)\n",
    "key_WHOI_exp2 = Dataset(datapath_WHOI_exp2)\n",
    "# get amet\n",
    "AMET_DMI_exp1 = key_DMI_exp1.variables['amet'][:]\n",
    "AMET_DMI_exp2 = key_DMI_exp2.variables['amet'][:]\n",
    "AMET_DMI_exp3 = key_DMI_exp3.variables['amet'][:]\n",
    "AMET_DMI_exp4 = key_DMI_exp4.variables['amet'][:]\n",
    "\n",
    "AMET_WHOI_exp1 = key_DMI_exp1.variables['amet'][:]\n",
    "AMET_WHOI_exp2 = key_DMI_exp2.variables['amet'][:]\n",
    "\n",
    "lat_DMI = key_DMI_exp1.variables['latitude'][:]"
   ]
  },
  {
   "cell_type": "code",
   "execution_count": 13,
   "metadata": {},
   "outputs": [
    {
     "name": "stdout",
     "output_type": "stream",
     "text": [
      "(20, 37, 12, 256)\n"
     ]
    },
    {
     "data": {
      "text/plain": [
       "[<matplotlib.lines.Line2D at 0x7f2f2f0fd160>]"
      ]
     },
     "execution_count": 13,
     "metadata": {},
     "output_type": "execute_result"
    },
    {
     "data": {
      "image/png": "[encoded data removed]",
      "text/plain": [
       "<Figure size 432x288 with 1 Axes>"
      ]
     },
     "metadata": {},
     "output_type": "display_data"
    }
   ],
   "source": [
    "print(AMET_DMI.shape)\n",
    "plt.plot(lat_DMI, np.mean(AMET_DMI[0,0,:,:],0))"
   ]
  }
 ],
 "metadata": {
  "kernelspec": {
   "display_name": "Python 3",
   "language": "python",
   "name": "python3"
  },
  "language_info": {
   "codemirror_mode": {
    "name": "ipython",
    "version": 3
   },
   "file_extension": ".py",
   "mimetype": "text/x-python",
   "name": "python",
   "nbconvert_exporter": "python",
   "pygments_lexer": "ipython3",
   "version": "3.6.5"
  }
 },
 "nbformat": 4,
 "nbformat_minor": 2
}
